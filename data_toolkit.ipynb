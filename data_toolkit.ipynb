{
  "nbformat": 4,
  "nbformat_minor": 0,
  "metadata": {
    "colab": {
      "provenance": []
    },
    "kernelspec": {
      "name": "python3",
      "display_name": "Python 3"
    },
    "language_info": {
      "name": "python"
    }
  },
  "cells": [
    {
      "cell_type": "code",
      "execution_count": null,
      "metadata": {
        "id": "yeEdHAuGlame"
      },
      "outputs": [],
      "source": [
        "Data Toolkit  (Assignment question)"
      ]
    },
    {
      "cell_type": "markdown",
      "source": [
        "ques 1. A What is NumPy, and why is it widely used in Python?\n",
        "\n",
        " ...>  NumPy is an open source mathematical and scientific computing library  \n",
        "          for Python programming tasks.\n",
        "\n",
        "          it is widely used because it provides efficient array operations, mathematical functions, and seamless integration with other libraries, making it a core tool for data science and scientific computing in Python."
      ],
      "metadata": {
        "id": "pnPMGNjjl3Jm"
      }
    },
    {
      "cell_type": "markdown",
      "source": [
        "ques 2. How does broadcasting work in NumPy?\n",
        "In NumPy, broadcasting allows operations between arrays of different shapes by automatically expanding the smaller array's dimensions to match the larger array's shape.\n",
        "\n",
        "broadcasting work in Numpy:-\n",
        "\n",
        "1. If dimensions match, NumPy performs element-wise operations.\n",
        "\n",
        "\n",
        "2. If one array has a dimension of 1, it is stretched to match the other array.\n",
        "\n",
        "\n",
        "3. If dimensions don't match and aren't 1, NumPy throws an error."
      ],
      "metadata": {
        "id": "vETr_fUXnmvG"
      }
    },
    {
      "cell_type": "markdown",
      "source": [
        "ques 3. What is a Pandas DataFrame?\n",
        "\n",
        "  ........> it is a way to represent and work with tabular data .\n",
        "it can be seen as a table that organizes data into rows and columns and it makes two dimensional data structure."
      ],
      "metadata": {
        "id": "XilZp3PApkIl"
      }
    },
    {
      "cell_type": "markdown",
      "source": [
        "ques 4. Explain the use of the groupby() method in Pandas.\n",
        "\n",
        " ....>  Pandas, the groupby() method is used to group data based on one or more columns and perform aggregate operations like sum, mean, count, etc."
      ],
      "metadata": {
        "id": "ZJr6KBMvqoQK"
      }
    },
    {
      "cell_type": "markdown",
      "source": [
        "ques 5. Why is Seaborn preferred for statistical visualizations.?\n",
        "\n",
        "........>seaborn preferred for statistical visualization because it provides a higher-level interface for creating statistical graphics. This means that Seaborn requires less code to create complex visualizations compared to Matplotlib."
      ],
      "metadata": {
        "id": "z-DlLHYkr7Bw"
      }
    },
    {
      "cell_type": "markdown",
      "source": [
        "ques 6.A What are the differences between NumPy arrays and Python lists.\n",
        "\n",
        "   ..........> Here are the key differences between NumPy arrays and Python lists:\n",
        "\n",
        "1. Data Type\n",
        "- NumPy arrays: Homogeneous, meaning all elements must be of the same data type.\n",
        "- Python lists: Heterogeneous, meaning elements can be of different data types.\n",
        "\n",
        "2. Memory Usage\n",
        "- NumPy arrays: Store data in a contiguous block of memory, making them more memory-efficient.\n",
        "- Python lists: Store data as a collection of pointers to individual elements, making them less memory-efficient.\n",
        "\n",
        "3. Performance\n",
        "- NumPy arrays: Optimized for numerical computations, providing faster performance.\n",
        "- Python lists: General-purpose data structures, providing slower performance for numerical computations.\n",
        "\n",
        "4. Operations\n",
        "- NumPy arrays: Support vectorized operations, allowing operations to be applied element-wise.\n",
        "- Python lists: Do not support vectorized operations, requiring loops or list comprehensions.\n",
        "\n",
        "5. Indexing and Slicing\n",
        "- NumPy arrays: Support advanced indexing and slicing, including multi-dimensional indexing.\n",
        "- Python lists: Support basic indexing and slicing, but not multi-dimensional indexing.\n",
        "\n",
        "6. Mutability\n",
        "- NumPy arrays: Can be mutable or immutable, depending on the type of array.\n",
        "- Python lists: Are mutable by default, but can be made immutable using tuples.\n",
        "\n",
        "7. Size Limitation\n",
        "- NumPy arrays: Can handle large datasets, limited only by available memory.\n",
        "- Python lists: Can also handle large datasets, but may be slower and more memory-intensive than NumPy arrays."
      ],
      "metadata": {
        "id": "S6moyv2ztMfx"
      }
    },
    {
      "cell_type": "markdown",
      "source": [
        "ques 7.What is a heatmap, and when should it be used?\n",
        "\n",
        "\n",
        "  .....> A heatmap is a graphical representation of data where values are depicted by color. It's a powerful visualization tool used to show relationships between two variables, display patterns, or highlight trends.\n",
        "  \n",
        "when to use of heatup :-\n",
        "1. Correlation analysis: Heatmaps are ideal for visualizing correlation matrices, helping identify relationships between variables.\n",
        "2. Data density: Heatmaps effectively display dense data, making it easier to spot patterns or trends.\n",
        "3. Comparing categories: Use heatmaps to compare categorical data, such as customer segments or product categories.\n",
        "4. Time-series analysis: Heatmaps can help visualize time-series data, highlighting patterns or anomalies.\n",
        "5. Spatial analysis: Heatmaps are useful for displaying spatial data, such as temperature, population density, or traffic patterns.\n",
        "\n"
      ],
      "metadata": {
        "id": "1W5dK3uFtzMo"
      }
    },
    {
      "cell_type": "markdown",
      "source": [
        "ques 8.What does the term “vectorized operation” mean in NumPy ?\n",
        "\n",
        " ..........> In NumPy, a vectorized operation is a single operation that applies to an entire array (or vector) at once, eliminating the need for loops.\n",
        "\n",
        "Vectorized operations in NumPy:\n",
        "\n",
        "Perform operations on entire arrays at once\n",
        "No need for explicit loops"
      ],
      "metadata": {
        "id": "j_lvz0mdwkGc"
      }
    },
    {
      "cell_type": "markdown",
      "source": [
        "ques 9.  How does Matplotlib differ from Plotly ?\n",
        "Matplotlib and Plotly are two popular Python libraries used for data visualization.\n",
        "\n",
        " differences :-\n",
        "1. Interactivity: Plotly offers interactive plots, while Matplotlib creates static plots.\n",
        "2. 3D plotting: Plotly supports 3D plotting, while Matplotlib is limited to 2D plots.\n",
        "3. Ease of use: Plotly is generally easier to use, especially for those without extensive programming experience.\n",
        "4. Customization: Matplotlib offers more fine-grained control over plot customization."
      ],
      "metadata": {
        "id": "Vxrr9DyaxwAi"
      }
    },
    {
      "cell_type": "markdown",
      "source": [
        "ques 10. What is the significance of hierarchical indexing in Pandas.\n",
        "Hierarchical indexing (also known as MultiIndex) in pandas is a powerful feature that allows you to index and manipulate data with multiple levels of labels.\n",
        "\n",
        " The significance of hierarchical indexing includes:\n",
        "\n",
        " 1. Improved data organization: Hierarchical indexing enables you to organize data with multiple categories or labels, making it easier to manage and analyze.\n",
        " 2. Efficient data selection: With hierarchical indexing, you can select specific subsets of data using the index labels, reducing the need for complex filtering operations.\n",
        "3. Simplified data aggregation: Hierarchical indexing facilitates data aggregation by allowing you to group data by multiple levels of labels, making it easier to perform analysis and calculations.\n",
        " 4. Enhanced data analysis: Hierarchical indexing enables you to perform more sophisticated data analysis, such as analyzing data by multiple categories or performing hierarchical clustering.\n",
        " 5. Better data visualization: Hierarchical indexing can help create more informative and organized data visualizations, such as heatmaps, bar charts, and treemaps.\n",
        " 6. Improved data merging and joining: Hierarchical indexing simplifies data merging and joining operations by allowing you to align data based on multiple levels of labels.\n",
        " 7. Support for panel data: Hierarchical indexing is particularly useful for working with panel data, where you have multiple observations for each individual or unit over time.\n"
      ],
      "metadata": {
        "id": "ZouUEHtpzFrz"
      }
    },
    {
      "cell_type": "markdown",
      "source": [
        "ques 11. What is the role of Seaborn's pairplot() function.\n",
        "\n",
        "  ....>  Seaborn's pairplot() function is used for visualizing relationships between multiple numerical variables in a dataset by plotting pairwise scatter plots and histograms."
      ],
      "metadata": {
        "id": "LQw7thxm0ivN"
      }
    },
    {
      "cell_type": "markdown",
      "source": [
        "ques 12. What is the purpose of the describe() function in Pandas ?\n",
        " function () in Pandas provides summery statistics for numerical (or categorical) columns in a DataFrame.\n",
        "\n",
        "Purpose:\n",
        "\n",
        "1. Gives a quick statistical summary of numerical columns.\n",
        "\n",
        "\n",
        "2. Includes count, mean, std, min, 25%, 50% (median), 75%, and max values.\n",
        "\n",
        "\n",
        "3. Helps in data exploration and understanding data distribution."
      ],
      "metadata": {
        "id": "UAGTfzKtA_Qz"
      }
    },
    {
      "cell_type": "markdown",
      "source": [
        "ques 13. Why is handling missing data important in Pandas ?\n",
        "\n",
        "\n",
        " .....> In Pandas, missing values, often represented as NaN (Not a Number), can cause problems during data processing and analysis. These gaps in data can lead to incorrect analysis and misleading conclusions."
      ],
      "metadata": {
        "id": "TYU1KSrEC0Rd"
      }
    },
    {
      "cell_type": "markdown",
      "source": [
        "ques 14.  What are the benefits of using Plotly for data visualization ?\n",
        "\n",
        "Key Benefits of Using Plotly:\n",
        "\n",
        "1. Interactive Visualizations - Allows zooming, panning, hovering, and tooltips for better data exploration.\n",
        "\n",
        "\n",
        "2. Wide Range of Charts - Supports line charts, bar charts, scatter plots, 3D plots, maps, and more.\n",
        "\n",
        "\n",
        "3. Customization - Offers extensive styling options like colors, themes, and annotations.\n",
        "\n",
        "\n",
        "4. Easy Integration - Works well with Jupyter Notebook, Dash (for web apps), and Flask.\n",
        "\n",
        "\n",
        "5. Supports Large Datasets -  Can efficiently handle and visualize large datasets.\n",
        "\n"
      ],
      "metadata": {
        "id": "DtM1kRHuDhrW"
      }
    },
    {
      "cell_type": "markdown",
      "source": [
        "ques 15.How does NumPy handle multidimensional arrays ?  \n",
        "\n",
        "NumPy handles multidimensional arrays using the ndarray (N-dimensional array) object, which allows efficient storage and manipulation of multi-dimensional data.\n",
        "\n",
        " Features of NumPy Multidimensional Arrays:\n",
        "\n",
        "1. N-Dimensional Support - Arrays can have any number of dimensions (1D, 2D, 3D, etc.).\n",
        "\n",
        "\n",
        "2. Shape & Size -  The .shape attribute gives the dimensions (rows, columns, depth, etc.).\n",
        "\n",
        "\n",
        "3. Efficient Storage - Uses contiguous memory for fast access and computation.\n",
        "\n",
        "\n",
        "4. Element-wise Operations - Supports vectorized operations across dimensions.\n",
        "\n",
        "\n",
        "5. Indexing & Slicing - Allows easy access to elements using indices.\n"
      ],
      "metadata": {
        "id": "i647jNliFL14"
      }
    },
    {
      "cell_type": "markdown",
      "source": [
        " ques 16 . What is the role of Bokeh in data visualization)\n",
        "\n",
        " Role of Bokeh in Data Visualization:\n",
        "\n",
        "1. Interactive Plots - Supports zooming, panning, tooltips, and dynamic updates.\n",
        "\n",
        "\n",
        "2. Web-Based Output -  Generates HTML and JavaScript visualizations for embedding in websites.\n",
        "\n",
        "\n",
        "3. Supports Large Datasets - Efficiently handles big data with DataTables and streaming updates.\n",
        "\n",
        "\n",
        "4. Multiple Chart Types - Line plots, bar charts, scatter plots, heatmaps, maps, etc.\n",
        "\n",
        "\n",
        "5. Customization & Styling -  Offers detailed control over colors, labels, and themes.\n",
        "\n",
        "\n",
        "6. Integration with Flask/Django - Can be used in web applications for interactive dashboards."
      ],
      "metadata": {
        "id": "FM8gWrufHph3"
      }
    },
    {
      "cell_type": "markdown",
      "source": [
        "ques 17 . A Explain the difference between apply() and map() in Pandas ?\n",
        "\n",
        "Pandas, both apply() and map() are used for applying functions to data, but they have different use cases.\n",
        "\n",
        "1. map() Method\n",
        "\n",
        " . Works only on Series (1D data).\n",
        "\n",
        ". Used for element-wise transformations.\n",
        "\n",
        ". Accepts functions, dictionaries, or lambda expressions.\n",
        "\n",
        " 2. apply() Method\n",
        "\n",
        " . Works on both Series (1D) and DataFrames (2D).\n",
        "\n",
        " . Can apply row-wise or column-wise transformations.\n",
        "\n",
        " . More flexible than map() (can handle multiple columns).\n"
      ],
      "metadata": {
        "id": "O03vb-NSIver"
      }
    },
    {
      "cell_type": "markdown",
      "source": [
        "  ques 18.  What are some advanced features of NumPy ?\n",
        "\n",
        " Features of NumPy in Python:\n",
        "\n",
        "1. N-Dimensional Arrays (ndarray) – Efficient handling of multi-dimensional arrays.\n",
        "\n",
        "\n",
        "2. Vectorized Operations – Faster element-wise computations without loops.\n",
        "\n",
        "\n",
        "3. Broadcasting – Enables arithmetic operations on arrays of different shapes.\n",
        "\n",
        "\n",
        "4. Mathematical Functions – Built-in functions for algebra, statistics, and transformations.\n",
        "\n",
        "\n",
        "5. Indexing & Slicing – Advanced ways to access and modify array elements.\n",
        "\n",
        "\n",
        "6. Linear Algebra Support – Includes matrix operations like inverse, dot product, eigenvalues, etc.\n",
        "\n",
        "\n",
        "7. Random Number Generation – Provides a powerful numpy.random module.\n",
        "\n",
        "\n",
        "8. Memory Efficiency – Uses less memory than Python lists.\n"
      ],
      "metadata": {
        "id": "2OhFNwX2J2Xf"
      }
    },
    {
      "cell_type": "markdown",
      "source": [
        "ques 19.How does Pandas simplify time series analysis ?\n",
        "\n",
        "......> Pandas simplifies time series analysis by providing powerful tools for handling, manipulating, and analyzing time-based data. Here's how it makes the process easier .\n",
        "1. by using datetime indexing - pandas allows us  to set a DatetimeINDEX, Making it easy to filter and slice time - based data\n",
        "2. by using Resampling & Aggregation -we can easily convert data from one frequency to another (e.g ,daily to monthly )\n",
        "3. Shifting  & Lagging - pandas allows us to shift data forward or backward ,useful for calculating moving averages or lag features ."
      ],
      "metadata": {
        "id": "5TZskA6Uk56B"
      }
    },
    {
      "cell_type": "markdown",
      "source": [
        " ques 20. What is the role of a pivot table in Pandas ?\n",
        "  A pivot table in Pandas is used to summarize, aggregate, and reshape data, making it easier to analyze large datasets. It works similarly to Excel's pivot tables.\n",
        "\n",
        "Key Roles of Pivot Tables in Pandas\n",
        "\n",
        "1. Data Aggregation: Summarizes data using functions like sum(), mean(), count(), etc.\n",
        "\n",
        "\n",
        "2. Reshaping Data: Converts long-format data into a more readable wide format.\n",
        "\n",
        "\n",
        "3. Grouping Data: Groups data based on one or more columns.\n",
        "\n",
        "\n",
        "4. Handling Missing Values: Fills missing values with default values or aggregates them.\n"
      ],
      "metadata": {
        "id": "17XWeslox49T"
      }
    },
    {
      "cell_type": "markdown",
      "source": [
        " ques 21. Why is NumPy's array slicing faster than Python's list slicing ?\n",
        "\n",
        " ..........> NumPy array slicing is faster than Python list slicing for several reasons:\n",
        "\n",
        "1. Contiguous memory allocation: NumPy arrays store data in a contiguous block of memory, allowing for efficient slicing.\n",
        "2. Vectorized operations: NumPy arrays support vectorized operations, which enable slicing to be performed in a single operation.\n",
        "3. Avoiding Python overhead: NumPy arrays bypass Python's dynamic typing and object creation overhead, resulting in faster slicing.\n",
        "4. Cache-friendly access: NumPy arrays are designed for cache-friendly access, reducing memory access latency during slicing.\n",
        "5. Optimized C code: NumPy's slicing implementation is written in optimized C code, providing a performance boost.\n",
        "\n"
      ],
      "metadata": {
        "id": "_DABfpuMylx7"
      }
    },
    {
      "cell_type": "markdown",
      "source": [
        "ques 22.What are some common use cases for Seaborn?\n",
        "\n",
        "....> Seaborn is a Python data visualization library built on top of Matplotlib. Here are some common use cases for Seaborn:\n",
        "\n",
        "1. Exploratory Data Analysis (EDA): Seaborn's visualizations help explore and understand datasets, identifying patterns, relationships, and correlations.\n",
        "\n",
        " 2. Statistical Graphics: Seaborn provides tools for creating informative and attractive statistical graphics, such as regression plots, boxplots, and violin plots.\n",
        "\n",
        " 3. Data Distribution Visualization: Seaborn's plots, like histograms, kernel density estimates, and pairplots, help visualize data distributions and relationships.\n",
        "\n",
        " 4. Categorical Data Analysis: Seaborn's bar plots, count plots, and boxenplots facilitate the analysis and visualization of categorical data.\n",
        "\n",
        "   5.Regression Analysis: Seaborn's regression plots and residual plots support regression analysis, helping identify relationships between variables.\n",
        "\n",
        ""
      ],
      "metadata": {
        "id": "prVpSVv4zRbv"
      }
    },
    {
      "cell_type": "markdown",
      "source": [
        "praticals :-"
      ],
      "metadata": {
        "id": "eFVzE_V80MDY"
      }
    },
    {
      "cell_type": "code",
      "source": [
        "# ques 1.  How do you create a 2D NumPy array and calculate the sum of each row ?\n",
        "import numpy as np\n",
        "\n",
        "# Creating a 2D NumPy array\n",
        "arr = np.array([[1, 2, 3],\n",
        "                [4, 5, 6],\n",
        "                [7, 8, 9]])\n",
        "\n",
        "# Calculating the sum of each row\n",
        "row_sums = np.sum(arr, axis=1)\n",
        "\n",
        "print(\"2D Array:\\n\", arr)\n",
        "print(\"Sum of each row:\", row_sums)"
      ],
      "metadata": {
        "colab": {
          "base_uri": "https://localhost:8080/"
        },
        "id": "Xt8evCcE0S7r",
        "outputId": "2425a260-8ba8-4401-daa4-5c775ed6aa0a"
      },
      "execution_count": 1,
      "outputs": [
        {
          "output_type": "stream",
          "name": "stdout",
          "text": [
            "2D Array:\n",
            " [[1 2 3]\n",
            " [4 5 6]\n",
            " [7 8 9]]\n",
            "Sum of each row: [ 6 15 24]\n"
          ]
        }
      ]
    },
    {
      "cell_type": "code",
      "source": [
        "# ques 2. Write a Pandas script to find the mean of a specific column in a DataFrame\n",
        "import pandas as pd\n",
        "\n",
        "# Sample DataFrame\n",
        "data = {\n",
        "    \"Name\": [\"Amrita\", \"supriya\", \"priya \", \"naina\"],\n",
        "    \"Age\": [16, 18, 24, 15],\n",
        "    \"Salary\": [250000, 30000, 350000, 480000]\n",
        "}\n",
        "\n",
        "df = pd.DataFrame(data)\n",
        "\n",
        "# Calculate the mean of the 'Salary' column\n",
        "mean_salary = df[\"Salary\"].mean()\n",
        "\n",
        "print(\"Mean Salary:\", mean_salary)\n"
      ],
      "metadata": {
        "colab": {
          "base_uri": "https://localhost:8080/"
        },
        "id": "6fRy-Cqa1R7M",
        "outputId": "8905199c-cf6c-49ab-b42d-fb75be0511e3"
      },
      "execution_count": 2,
      "outputs": [
        {
          "output_type": "stream",
          "name": "stdout",
          "text": [
            "Mean Salary: 277500.0\n"
          ]
        }
      ]
    },
    {
      "cell_type": "code",
      "source": [
        " # ques 3. Create a scatter plot using Matplotliba\n",
        " import matplotlib.pyplot as plt\n",
        "\n",
        "# Sample data\n",
        "x = [10, 20, 30, 40, 50]\n",
        "y = [5, 15, 25, 35, 45]\n",
        "\n",
        "# Create figure and axes\n",
        "fig, ax = plt.subplots()\n",
        "\n",
        "# Create scatter plot\n",
        "ax.scatter(x, y, color='red', marker='s')  # 's' makes square markers\n",
        "\n",
        "# Add labels and title\n",
        "ax.set_xlabel(\"X-axis Label\")\n",
        "ax.set_ylabel(\"Y-axis Label\")\n",
        "ax.set_title(\"Scatter Plot using Object-Oriented Approach\")\n",
        "\n",
        "# Show the plot\n",
        "plt.show()\n"
      ],
      "metadata": {
        "colab": {
          "base_uri": "https://localhost:8080/",
          "height": 472
        },
        "id": "rgLsPLE02hnd",
        "outputId": "2c5e3ec2-44c1-4fd5-d494-2153f84364c2"
      },
      "execution_count": 3,
      "outputs": [
        {
          "output_type": "display_data",
          "data": {
            "text/plain": [
              "<Figure size 640x480 with 1 Axes>"
            ],
            "image/png": "[encoded data removed]"
          },
          "metadata": {}
        }
      ]
    },
    {
      "cell_type": "code",
      "source": [
        "# ques 4. How do you calculate the correlation matrix using Seaborn and visualize it with a heatmap ?\n",
        "import pandas as pd\n",
        "import seaborn as sns\n",
        "import matplotlib.pyplot as plt\n",
        "\n",
        "# Sample dataset\n",
        "data = {\n",
        "    \"A\": [1, 2, 3, 4, 5],\n",
        "    \"B\": [2, 4, 6, 8, 10],\n",
        "    \"C\": [5, 3, 8, 1, 7]\n",
        "}\n",
        "\n",
        "df = pd.DataFrame(data)\n",
        "# correlation matrix\n",
        "corr_matrix = df.corr()\n",
        "\n",
        "# Create a heatmap\n",
        "plt.figure(figsize=(6, 4))\n",
        "sns.heatmap(corr_matrix, annot=True, cmap=\"coolwarm\", fmt=\".2f\", linewidths=0.5)\n",
        "\n",
        "plt.title(\"Correlation Matrix Heatmap\")\n",
        "\n",
        "plt.show()"
      ],
      "metadata": {
        "colab": {
          "base_uri": "https://localhost:8080/",
          "height": 391
        },
        "id": "0a4Sk9K_3MTX",
        "outputId": "cc18ce8b-35b3-49ea-bd40-83db104f4e70"
      },
      "execution_count": 4,
      "outputs": [
        {
          "output_type": "display_data",
          "data": {
            "text/plain": [
              "<Figure size 600x400 with 2 Axes>"
            ],
            "image/png": "[encoded data removed]"
          },
          "metadata": {}
        }
      ]
    },
    {
      "cell_type": "code",
      "source": [
        " # ques 5.A Generate a bar plot using Plotly.\n",
        " import plotly.io as pio\n",
        "\n",
        "# Sample data\n",
        "categories = [\"A\", \"B\", \"C\", \"D\"]\n",
        "values = [5, 15, 10, 25]\n",
        "\n",
        "# Define figure as a dictionary\n",
        "fig = {\n",
        "    \"data\": [\n",
        "        {\n",
        "            \"type\": \"bar\",\n",
        "            \"x\": categories,\n",
        "            \"y\": values,\n",
        "            \"marker\": {\"color\": \"purple\"}\n",
        "        }\n",
        "    ],\n",
        "    \"layout\": {\n",
        "        \"title\": \"Bar Plot using Figure Dictionary\",\n",
        "        \"xaxis\": {\"title\": \"Category\"},\n",
        "        \"yaxis\": {\"title\": \"Values\"}\n",
        "    }\n",
        "}\n",
        "\n",
        "# Show the plot\n",
        "pio.show(fig)"
      ],
      "metadata": {
        "colab": {
          "base_uri": "https://localhost:8080/",
          "height": 542
        },
        "id": "UThPErHo4jTA",
        "outputId": "0bd02a96-3cf1-454d-d3c0-22a82403922c"
      },
      "execution_count": 9,
      "outputs": [
        {
          "output_type": "display_data",
          "data": {
            "text/html": [
              "<html>\n",
              "<head><meta charset=\"utf-8\" /></head>\n",
              "<body>\n",
              "    <div>            <script src=\"https://cdnjs.cloudflare.com/ajax/libs/mathjax/2.7.5/MathJax.js?config=TeX-AMS-MML_SVG\"></script><script type=\"text/javascript\">if (window.MathJax && window.MathJax.Hub && window.MathJax.Hub.Config) {window.MathJax.Hub.Config({SVG: {font: \"STIX-Web\"}});}</script>                <script type=\"text/javascript\">window.PlotlyConfig = {MathJaxConfig: 'local'};</script>\n",
              "        <script charset=\"utf-8\" src=\"https://cdn.plot.ly/plotly-2.35.2.min.js\"></script>                <div id=\"3b5d6647-948e-4684-b114-a7a3f630878f\" class=\"plotly-graph-div\" style=\"height:525px; width:100%;\"></div>            <script type=\"text/javascript\">                                    window.PLOTLYENV=window.PLOTLYENV || {};                                    if (document.getElementById(\"3b5d6647-948e-4684-b114-a7a3f630878f\")) {                    Plotly.newPlot(                        \"3b5d6647-948e-4684-b114-a7a3f630878f\",                        [{\"marker\":{\"color\":\"purple\"},\"x\":[\"A\",\"B\",\"C\",\"D\"],\"y\":[5,15,10,25],\"type\":\"bar\"}],                        {\"title\":{\"text\":\"Bar Plot using Figure Dictionary\"},\"xaxis\":{\"title\":{\"text\":\"Category\"}},\"yaxis\":{\"title\":{\"text\":\"Values\"}},\"template\":{\"data\":{\"histogram2dcontour\":[{\"type\":\"histogram2dcontour\",\"colorbar\":{\"outlinewidth\":0,\"ticks\":\"\"},\"colorscale\":[[0.0,\"#0d0887\"],[0.1111111111111111,\"#46039f\"],[0.2222222222222222,\"#7201a8\"],[0.3333333333333333,\"#9c179e\"],[0.4444444444444444,\"#bd3786\"],[0.5555555555555556,\"#d8576b\"],[0.6666666666666666,\"#ed7953\"],[0.7777777777777778,\"#fb9f3a\"],[0.8888888888888888,\"#fdca26\"],[1.0,\"#f0f921\"]]}],\"choropleth\":[{\"type\":\"choropleth\",\"colorbar\":{\"outlinewidth\":0,\"ticks\":\"\"}}],\"histogram2d\":[{\"type\":\"histogram2d\",\"colorbar\":{\"outlinewidth\":0,\"ticks\":\"\"},\"colorscale\":[[0.0,\"#0d0887\"],[0.1111111111111111,\"#46039f\"],[0.2222222222222222,\"#7201a8\"],[0.3333333333333333,\"#9c179e\"],[0.4444444444444444,\"#bd3786\"],[0.5555555555555556,\"#d8576b\"],[0.6666666666666666,\"#ed7953\"],[0.7777777777777778,\"#fb9f3a\"],[0.8888888888888888,\"#fdca26\"],[1.0,\"#f0f921\"]]}],\"heatmap\":[{\"type\":\"heatmap\",\"colorbar\":{\"outlinewidth\":0,\"ticks\":\"\"},\"colorscale\":[[0.0,\"#0d0887\"],[0.1111111111111111,\"#46039f\"],[0.2222222222222222,\"#7201a8\"],[0.3333333333333333,\"#9c179e\"],[0.4444444444444444,\"#bd3786\"],[0.5555555555555556,\"#d8576b\"],[0.6666666666666666,\"#ed7953\"],[0.7777777777777778,\"#fb9f3a\"],[0.8888888888888888,\"#fdca26\"],[1.0,\"#f0f921\"]]}],\"heatmapgl\":[{\"type\":\"heatmapgl\",\"colorbar\":{\"outlinewidth\":0,\"ticks\":\"\"},\"colorscale\":[[0.0,\"#0d0887\"],[0.1111111111111111,\"#46039f\"],[0.2222222222222222,\"#7201a8\"],[0.3333333333333333,\"#9c179e\"],[0.4444444444444444,\"#bd3786\"],[0.5555555555555556,\"#d8576b\"],[0.6666666666666666,\"#ed7953\"],[0.7777777777777778,\"#fb9f3a\"],[0.8888888888888888,\"#fdca26\"],[1.0,\"#f0f921\"]]}],\"contourcarpet\":[{\"type\":\"contourcarpet\",\"colorbar\":{\"outlinewidth\":0,\"ticks\":\"\"}}],\"contour\":[{\"type\":\"contour\",\"colorbar\":{\"outlinewidth\":0,\"ticks\":\"\"},\"colorscale\":[[0.0,\"#0d0887\"],[0.1111111111111111,\"#46039f\"],[0.2222222222222222,\"#7201a8\"],[0.3333333333333333,\"#9c179e\"],[0.4444444444444444,\"#bd3786\"],[0.5555555555555556,\"#d8576b\"],[0.6666666666666666,\"#ed7953\"],[0.7777777777777778,\"#fb9f3a\"],[0.8888888888888888,\"#fdca26\"],[1.0,\"#f0f921\"]]}],\"surface\":[{\"type\":\"surface\",\"colorbar\":{\"outlinewidth\":0,\"ticks\":\"\"},\"colorscale\":[[0.0,\"#0d0887\"],[0.1111111111111111,\"#46039f\"],[0.2222222222222222,\"#7201a8\"],[0.3333333333333333,\"#9c179e\"],[0.4444444444444444,\"#bd3786\"],[0.5555555555555556,\"#d8576b\"],[0.6666666666666666,\"#ed7953\"],[0.7777777777777778,\"#fb9f3a\"],[0.8888888888888888,\"#fdca26\"],[1.0,\"#f0f921\"]]}],\"mesh3d\":[{\"type\":\"mesh3d\",\"colorbar\":{\"outlinewidth\":0,\"ticks\":\"\"}}],\"scatter\":[{\"fillpattern\":{\"fillmode\":\"overlay\",\"size\":10,\"solidity\":0.2},\"type\":\"scatter\"}],\"parcoords\":[{\"type\":\"parcoords\",\"line\":{\"colorbar\":{\"outlinewidth\":0,\"ticks\":\"\"}}}],\"scatterpolargl\":[{\"type\":\"scatterpolargl\",\"marker\":{\"colorbar\":{\"outlinewidth\":0,\"ticks\":\"\"}}}],\"bar\":[{\"error_x\":{\"color\":\"#2a3f5f\"},\"error_y\":{\"color\":\"#2a3f5f\"},\"marker\":{\"line\":{\"color\":\"#E5ECF6\",\"width\":0.5},\"pattern\":{\"fillmode\":\"overlay\",\"size\":10,\"solidity\":0.2}},\"type\":\"bar\"}],\"scattergeo\":[{\"type\":\"scattergeo\",\"marker\":{\"colorbar\":{\"outlinewidth\":0,\"ticks\":\"\"}}}],\"scatterpolar\":[{\"type\":\"scatterpolar\",\"marker\":{\"colorbar\":{\"outlinewidth\":0,\"ticks\":\"\"}}}],\"histogram\":[{\"marker\":{\"pattern\":{\"fillmode\":\"overlay\",\"size\":10,\"solidity\":0.2}},\"type\":\"histogram\"}],\"scattergl\":[{\"type\":\"scattergl\",\"marker\":{\"colorbar\":{\"outlinewidth\":0,\"ticks\":\"\"}}}],\"scatter3d\":[{\"type\":\"scatter3d\",\"line\":{\"colorbar\":{\"outlinewidth\":0,\"ticks\":\"\"}},\"marker\":{\"colorbar\":{\"outlinewidth\":0,\"ticks\":\"\"}}}],\"scattermapbox\":[{\"type\":\"scattermapbox\",\"marker\":{\"colorbar\":{\"outlinewidth\":0,\"ticks\":\"\"}}}],\"scatterternary\":[{\"type\":\"scatterternary\",\"marker\":{\"colorbar\":{\"outlinewidth\":0,\"ticks\":\"\"}}}],\"scattercarpet\":[{\"type\":\"scattercarpet\",\"marker\":{\"colorbar\":{\"outlinewidth\":0,\"ticks\":\"\"}}}],\"carpet\":[{\"aaxis\":{\"endlinecolor\":\"#2a3f5f\",\"gridcolor\":\"white\",\"linecolor\":\"white\",\"minorgridcolor\":\"white\",\"startlinecolor\":\"#2a3f5f\"},\"baxis\":{\"endlinecolor\":\"#2a3f5f\",\"gridcolor\":\"white\",\"linecolor\":\"white\",\"minorgridcolor\":\"white\",\"startlinecolor\":\"#2a3f5f\"},\"type\":\"carpet\"}],\"table\":[{\"cells\":{\"fill\":{\"color\":\"#EBF0F8\"},\"line\":{\"color\":\"white\"}},\"header\":{\"fill\":{\"color\":\"#C8D4E3\"},\"line\":{\"color\":\"white\"}},\"type\":\"table\"}],\"barpolar\":[{\"marker\":{\"line\":{\"color\":\"#E5ECF6\",\"width\":0.5},\"pattern\":{\"fillmode\":\"overlay\",\"size\":10,\"solidity\":0.2}},\"type\":\"barpolar\"}],\"pie\":[{\"automargin\":true,\"type\":\"pie\"}]},\"layout\":{\"autotypenumbers\":\"strict\",\"colorway\":[\"#636efa\",\"#EF553B\",\"#00cc96\",\"#ab63fa\",\"#FFA15A\",\"#19d3f3\",\"#FF6692\",\"#B6E880\",\"#FF97FF\",\"#FECB52\"],\"font\":{\"color\":\"#2a3f5f\"},\"hovermode\":\"closest\",\"hoverlabel\":{\"align\":\"left\"},\"paper_bgcolor\":\"white\",\"plot_bgcolor\":\"#E5ECF6\",\"polar\":{\"bgcolor\":\"#E5ECF6\",\"angularaxis\":{\"gridcolor\":\"white\",\"linecolor\":\"white\",\"ticks\":\"\"},\"radialaxis\":{\"gridcolor\":\"white\",\"linecolor\":\"white\",\"ticks\":\"\"}},\"ternary\":{\"bgcolor\":\"#E5ECF6\",\"aaxis\":{\"gridcolor\":\"white\",\"linecolor\":\"white\",\"ticks\":\"\"},\"baxis\":{\"gridcolor\":\"white\",\"linecolor\":\"white\",\"ticks\":\"\"},\"caxis\":{\"gridcolor\":\"white\",\"linecolor\":\"white\",\"ticks\":\"\"}},\"coloraxis\":{\"colorbar\":{\"outlinewidth\":0,\"ticks\":\"\"}},\"colorscale\":{\"sequential\":[[0.0,\"#0d0887\"],[0.1111111111111111,\"#46039f\"],[0.2222222222222222,\"#7201a8\"],[0.3333333333333333,\"#9c179e\"],[0.4444444444444444,\"#bd3786\"],[0.5555555555555556,\"#d8576b\"],[0.6666666666666666,\"#ed7953\"],[0.7777777777777778,\"#fb9f3a\"],[0.8888888888888888,\"#fdca26\"],[1.0,\"#f0f921\"]],\"sequentialminus\":[[0.0,\"#0d0887\"],[0.1111111111111111,\"#46039f\"],[0.2222222222222222,\"#7201a8\"],[0.3333333333333333,\"#9c179e\"],[0.4444444444444444,\"#bd3786\"],[0.5555555555555556,\"#d8576b\"],[0.6666666666666666,\"#ed7953\"],[0.7777777777777778,\"#fb9f3a\"],[0.8888888888888888,\"#fdca26\"],[1.0,\"#f0f921\"]],\"diverging\":[[0,\"#8e0152\"],[0.1,\"#c51b7d\"],[0.2,\"#de77ae\"],[0.3,\"#f1b6da\"],[0.4,\"#fde0ef\"],[0.5,\"#f7f7f7\"],[0.6,\"#e6f5d0\"],[0.7,\"#b8e186\"],[0.8,\"#7fbc41\"],[0.9,\"#4d9221\"],[1,\"#276419\"]]},\"xaxis\":{\"gridcolor\":\"white\",\"linecolor\":\"white\",\"ticks\":\"\",\"title\":{\"standoff\":15},\"zerolinecolor\":\"white\",\"automargin\":true,\"zerolinewidth\":2},\"yaxis\":{\"gridcolor\":\"white\",\"linecolor\":\"white\",\"ticks\":\"\",\"title\":{\"standoff\":15},\"zerolinecolor\":\"white\",\"automargin\":true,\"zerolinewidth\":2},\"scene\":{\"xaxis\":{\"backgroundcolor\":\"#E5ECF6\",\"gridcolor\":\"white\",\"linecolor\":\"white\",\"showbackground\":true,\"ticks\":\"\",\"zerolinecolor\":\"white\",\"gridwidth\":2},\"yaxis\":{\"backgroundcolor\":\"#E5ECF6\",\"gridcolor\":\"white\",\"linecolor\":\"white\",\"showbackground\":true,\"ticks\":\"\",\"zerolinecolor\":\"white\",\"gridwidth\":2},\"zaxis\":{\"backgroundcolor\":\"#E5ECF6\",\"gridcolor\":\"white\",\"linecolor\":\"white\",\"showbackground\":true,\"ticks\":\"\",\"zerolinecolor\":\"white\",\"gridwidth\":2}},\"shapedefaults\":{\"line\":{\"color\":\"#2a3f5f\"}},\"annotationdefaults\":{\"arrowcolor\":\"#2a3f5f\",\"arrowhead\":0,\"arrowwidth\":1},\"geo\":{\"bgcolor\":\"white\",\"landcolor\":\"#E5ECF6\",\"subunitcolor\":\"white\",\"showland\":true,\"showlakes\":true,\"lakecolor\":\"white\"},\"title\":{\"x\":0.05},\"mapbox\":{\"style\":\"light\"}}}},                        {\"responsive\": true}                    ).then(function(){\n",
              "                            \n",
              "var gd = document.getElementById('3b5d6647-948e-4684-b114-a7a3f630878f');\n",
              "var x = new MutationObserver(function (mutations, observer) {{\n",
              "        var display = window.getComputedStyle(gd).display;\n",
              "        if (!display || display === 'none') {{\n",
              "            console.log([gd, 'removed!']);\n",
              "            Plotly.purge(gd);\n",
              "            observer.disconnect();\n",
              "        }}\n",
              "}});\n",
              "\n",
              "// Listen for the removal of the full notebook cells\n",
              "var notebookContainer = gd.closest('#notebook-container');\n",
              "if (notebookContainer) {{\n",
              "    x.observe(notebookContainer, {childList: true});\n",
              "}}\n",
              "\n",
              "// Listen for the clearing of the current output cell\n",
              "var outputEl = gd.closest('.output');\n",
              "if (outputEl) {{\n",
              "    x.observe(outputEl, {childList: true});\n",
              "}}\n",
              "\n",
              "                        })                };                            </script>        </div>\n",
              "</body>\n",
              "</html>"
            ]
          },
          "metadata": {}
        }
      ]
    },
    {
      "cell_type": "code",
      "source": [
        " #  ques 6.Create a DataFrame and add a new column based on an existing column.\n",
        " import pandas as pd\n",
        "\n",
        "# Create a DataFrame\n",
        "data = {\n",
        "    \"Name\": [\"Amrita\", \"priya\", \"siya\"],\n",
        "    \"Salary\": [30000, 40000, 50000]\n",
        "}\n",
        "\n",
        "df = pd.DataFrame(data)\n",
        "\n",
        "# Add a new column 'Bonus' as 10% of 'Salary'\n",
        "df[\"Bonus\"] = df[\"Salary\"] * 0.10\n",
        "\n",
        "print(df)\n"
      ],
      "metadata": {
        "colab": {
          "base_uri": "https://localhost:8080/"
        },
        "id": "G53IoByp5hQa",
        "outputId": "f0728b86-36f9-4d19-efa7-676ed88456b7"
      },
      "execution_count": 10,
      "outputs": [
        {
          "output_type": "stream",
          "name": "stdout",
          "text": [
            "     Name  Salary   Bonus\n",
            "0  Amrita   30000  3000.0\n",
            "1   priya   40000  4000.0\n",
            "2    siya   50000  5000.0\n"
          ]
        }
      ]
    },
    {
      "cell_type": "code",
      "source": [
        " # ques 7.Write a program to perform element-wise multiplication of two NumPy arrays.\n",
        " import numpy as np\n",
        "\n",
        "# Create two NumPy arrays\n",
        "arr1 = np.array([[2, 2, 3],\n",
        "                 [3, 1, 5]])\n",
        "\n",
        "arr2 = np.array([[1, 6, 7],\n",
        "                 [4, 3, 2]])\n",
        "\n",
        "# Element-wise multiplication\n",
        "result = arr1 * arr2\n",
        "\n",
        "print(\"Element-wise Multiplication:\\n\", result)"
      ],
      "metadata": {
        "colab": {
          "base_uri": "https://localhost:8080/"
        },
        "id": "OKXv9Gl96KDv",
        "outputId": "aa3024fa-8d80-4f58-bc5d-b47caf74344a"
      },
      "execution_count": 11,
      "outputs": [
        {
          "output_type": "stream",
          "name": "stdout",
          "text": [
            "Element-wise Multiplication:\n",
            " [[ 2 12 21]\n",
            " [12  3 10]]\n"
          ]
        }
      ]
    },
    {
      "cell_type": "code",
      "source": [
        "# ques 8. Create a line plot with multiple lines using Matplotlib.\n",
        "import matplotlib.pyplot as plt\n",
        "# data\n",
        "x = [1, 2, 3, 4, 5]\n",
        "y1 = [10, 20, 30, 40, 50]  # Line 1\n",
        "y2 = [5, 15, 25, 35, 45]   # Line 2\n",
        "y3 = [2, 10, 18, 26, 34]   # Line 3\n",
        "\n",
        "# Plot multiple lines\n",
        "plt.plot(x, y1, label=\"Line 1\", color=\"yellow\", linestyle=\"-\", marker=\"o\")\n",
        "plt.plot(x, y2, label=\"Line 2\", color=\"red\", linestyle=\"--\", marker=\"s\")\n",
        "plt.plot(x, y3, label=\"Line 3\", color=\"blue\", linestyle=\":\", marker=\"d\")\n",
        "\n",
        "# Add labels and title\n",
        "plt.xlabel(\"X-axis\")\n",
        "plt.ylabel(\"Y-axis\")\n",
        "plt.title(\"Multiple Line Plot\")\n",
        "\n",
        "plt.legend()\n",
        "\n",
        "plt.show()"
      ],
      "metadata": {
        "colab": {
          "base_uri": "https://localhost:8080/",
          "height": 472
        },
        "id": "xhiQ-P827Tfb",
        "outputId": "83e6c5b1-2732-4bdf-c975-1b95fd44ecbd"
      },
      "execution_count": 13,
      "outputs": [
        {
          "output_type": "display_data",
          "data": {
            "text/plain": [
              "<Figure size 640x480 with 1 Axes>"
            ],
            "image/png": "[encoded data removed]"
          },
          "metadata": {}
        }
      ]
    },
    {
      "cell_type": "code",
      "source": [
        " # ques 9.  Generate a Pandas DataFrame and filter rows where a column value is greater than a threshold.\n",
        " import pandas as pd\n",
        "\n",
        "#   DataFrame\n",
        "data = {\n",
        "    \"Name\": [\"Amrita\", \"priya\", \"esha\", \"ayushi\", \"akanksha\"],\n",
        "    \"Age\": [16, 20, 20, 24, 17],\n",
        "    \"Salary\": [80000, 60000, 70000, 35000, 45000]\n",
        "}\n",
        "\n",
        "df = pd.DataFrame(data)\n",
        "\n",
        "\n",
        "filtered_df = df[df[\"Salary\"] > 55000]\n",
        "\n",
        "print(filtered_df)"
      ],
      "metadata": {
        "colab": {
          "base_uri": "https://localhost:8080/"
        },
        "id": "cBZODchhB3e1",
        "outputId": "02a2d026-f22d-4762-8275-c7d029607c08"
      },
      "execution_count": 14,
      "outputs": [
        {
          "output_type": "stream",
          "name": "stdout",
          "text": [
            "     Name  Age  Salary\n",
            "0  Amrita   16   80000\n",
            "1   priya   20   60000\n",
            "2    esha   20   70000\n"
          ]
        }
      ]
    },
    {
      "cell_type": "code",
      "source": [
        "#  10 ques Create a histogram using Seaborn to visualize a distribution.\n",
        "import seaborn as sns\n",
        "import matplotlib.pyplot as plt\n",
        "import numpy as np\n",
        "\n",
        "# Generate random data\n",
        "data = np.random.randn(1000)  # 1000 random values from a normal distribution\n",
        "\n",
        "# Create histogram\n",
        "sns.histplot(data, bins=30, kde=True, color=\"yellow\")\n",
        "\n",
        "# Add labels and title\n",
        "plt.xlabel(\"Value\")\n",
        "plt.ylabel(\"Frequency\")\n",
        "plt.title(\"Histogram of Data Distribution\")\n",
        "\n",
        "# Show plot\n",
        "plt.show()\n"
      ],
      "metadata": {
        "colab": {
          "base_uri": "https://localhost:8080/",
          "height": 472
        },
        "id": "Dx5qvUQDDK4z",
        "outputId": "64ac2ad1-d4bb-46bd-cf1b-0d3307c0271f"
      },
      "execution_count": 15,
      "outputs": [
        {
          "output_type": "display_data",
          "data": {
            "text/plain": [
              "<Figure size 640x480 with 1 Axes>"
            ],
            "image/png": "[encoded data removed]"
          },
          "metadata": {}
        }
      ]
    },
    {
      "cell_type": "code",
      "source": [
        "# ques .11  Perform matrix multiplication using NumPy.\n",
        "\n",
        "import numpy as np\n",
        "\n",
        "# Define two matrices\n",
        "A = np.array([[1, 2],\n",
        "              [3, 4]])\n",
        "\n",
        "B = np.array([[5, 6],\n",
        "              [7, 8]])\n",
        "\n",
        "# Matrix multiplication using np.dot()\n",
        "result = np.dot(A, B)\n",
        "\n",
        "print(\"Matrix Multiplication using np.dot():\\n\", result)"
      ],
      "metadata": {
        "colab": {
          "base_uri": "https://localhost:8080/"
        },
        "id": "-qlEmgPADxQL",
        "outputId": "94f2f692-42aa-4923-b82d-b96f88ec6287"
      },
      "execution_count": 16,
      "outputs": [
        {
          "output_type": "stream",
          "name": "stdout",
          "text": [
            "Matrix Multiplication using np.dot():\n",
            " [[19 22]\n",
            " [43 50]]\n"
          ]
        }
      ]
    },
    {
      "cell_type": "code",
      "source": [
        " # Create a 3D scatter plot using Plotly.\n",
        " import plotly.express as px\n",
        "import pandas as pd\n",
        "import numpy as np\n",
        "\n",
        "# Generate random data\n",
        "np.random.seed(42)\n",
        "df = pd.DataFrame({\n",
        "    \"X\": np.random.randn(50),\n",
        "    \"Y\": np.random.randn(50),\n",
        "    \"Z\": np.random.randn(50),\n",
        "    \"Color\": np.random.randn(50)  # For coloring points\n",
        "})\n",
        "\n",
        "# Create 3D scatter plot using plotly.express\n",
        "fig = px.scatter_3d(df, x=\"X\", y=\"Y\", z=\"Z\", color=\"Color\",\n",
        "                     size_max=10, opacity=0.8, title=\"3D Scatter Plot\")\n",
        "\n",
        "# Show the plot\n",
        "fig.show()"
      ],
      "metadata": {
        "colab": {
          "base_uri": "https://localhost:8080/",
          "height": 542
        },
        "id": "FQxoo3TiF_w-",
        "outputId": "1e59c850-3bdf-4874-ceca-317607f3c0fb"
      },
      "execution_count": 20,
      "outputs": [
        {
          "output_type": "display_data",
          "data": {
            "text/html": [
              "<html>\n",
              "<head><meta charset=\"utf-8\" /></head>\n",
              "<body>\n",
              "    <div>            <script src=\"https://cdnjs.cloudflare.com/ajax/libs/mathjax/2.7.5/MathJax.js?config=TeX-AMS-MML_SVG\"></script><script type=\"text/javascript\">if (window.MathJax && window.MathJax.Hub && window.MathJax.Hub.Config) {window.MathJax.Hub.Config({SVG: {font: \"STIX-Web\"}});}</script>                <script type=\"text/javascript\">window.PlotlyConfig = {MathJaxConfig: 'local'};</script>\n",
              "        <script charset=\"utf-8\" src=\"https://cdn.plot.ly/plotly-2.35.2.min.js\"></script>                <div id=\"d10891f2-ffdc-4fe7-b201-e983c7115af0\" class=\"plotly-graph-div\" style=\"height:525px; width:100%;\"></div>            <script type=\"text/javascript\">                                    window.PLOTLYENV=window.PLOTLYENV || {};                                    if (document.getElementById(\"d10891f2-ffdc-4fe7-b201-e983c7115af0\")) {                    Plotly.newPlot(                        \"d10891f2-ffdc-4fe7-b201-e983c7115af0\",                        [{\"hovertemplate\":\"X=%{x}\\u003cbr\\u003eY=%{y}\\u003cbr\\u003eZ=%{z}\\u003cbr\\u003eColor=%{marker.color}\\u003cextra\\u003e\\u003c\\u002fextra\\u003e\",\"legendgroup\":\"\",\"marker\":{\"color\":[0.25049285034587654,0.3464482094969757,-0.6800247215784908,0.23225369716100355,0.29307247329868125,-0.7143514180263678,1.8657745111447566,0.4738329209117875,-1.1913034972026486,0.6565536086338297,-0.9746816702273214,0.787084603742452,1.158595579007404,-0.8206823183517105,0.9633761292443218,0.4127809269364983,0.82206015999449,1.8967929826539474,-0.2453881160028705,-0.7537361643574896,-0.8895144296255233,-0.8158102849654383,-0.0771017094141042,0.3411519748166439,0.27669079933001905,0.8271832490360238,0.01300189187790702,1.4535340771573169,-0.2646568332379561,2.720169166589619,0.6256673477650062,-0.8571575564162826,-1.0708924980611123,0.4824724152431853,-0.2234627853258509,0.714000494092092,0.47323762457354485,-0.07282891265687277,-0.846793718068405,-1.5148472246858646,-0.4465149520670211,0.8563987943234723,0.21409374413020396,-1.245738778711988,0.173180925851182,0.3853173797288368,-0.883857436201133,0.1537251059455279,0.058208718445999896,-1.142970297830623],\"coloraxis\":\"coloraxis\",\"opacity\":0.8,\"symbol\":\"circle\"},\"mode\":\"markers\",\"name\":\"\",\"scene\":\"scene\",\"showlegend\":false,\"x\":[0.4967141530112327,-0.13826430117118466,0.6476885381006925,1.5230298564080254,-0.23415337472333597,-0.23413695694918055,1.5792128155073915,0.7674347291529088,-0.4694743859349521,0.5425600435859647,-0.46341769281246226,-0.46572975357025687,0.24196227156603412,-1.913280244657798,-1.7249178325130328,-0.5622875292409727,-1.0128311203344238,0.3142473325952739,-0.9080240755212109,-1.4123037013352915,1.465648768921554,-0.22577630048653566,0.06752820468792384,-1.4247481862134568,-0.5443827245251827,0.11092258970986608,-1.1509935774223028,0.37569801834567196,-0.600638689918805,-0.2916937497932768,-0.6017066122293969,1.8522781845089378,-0.013497224737933921,-1.0577109289559004,0.822544912103189,-1.2208436499710222,0.2088635950047554,-1.9596701238797756,-1.3281860488984305,0.19686123586912352,0.7384665799954104,0.1713682811899705,-0.11564828238824053,-0.3011036955892888,-1.4785219903674274,-0.7198442083947086,-0.4606387709597875,1.0571222262189157,0.3436182895684614,-1.763040155362734],\"y\":[0.324083969394795,-0.38508228041631654,-0.6769220003059587,0.6116762888408679,1.030999522495951,0.9312801191161986,-0.8392175232226385,-0.3092123758512146,0.33126343140356396,0.9755451271223592,-0.47917423784528995,-0.18565897666381712,-1.1063349740060282,-1.1962066240806708,0.812525822394198,1.356240028570823,-0.07201012158033385,1.0035328978920242,0.36163602504763415,-0.6451197546051243,0.36139560550841393,1.5380365664659692,-0.03582603910995154,1.5646436558140062,-2.6197451040897444,0.8219025043752238,0.08704706823817122,-0.29900735046586746,0.0917607765355023,-1.9875689146008928,-0.21967188783751193,0.3571125715117464,1.477894044741516,-0.5182702182736474,-0.8084936028931876,-0.5017570435845365,0.9154021177020741,0.32875110965968446,-0.5297602037670388,0.5132674331133561,0.09707754934804039,0.9686449905328892,-0.7020530938773524,-0.3276621465977682,-0.39210815313215763,-1.4635149481321186,0.29612027706457605,0.26105527217988933,0.00511345664246089,-0.23458713337514692],\"z\":[-1.4153707420504142,-0.42064532276535904,-0.3427145165267695,-0.8022772692216189,-0.16128571166600914,0.4040508568145384,1.8861859012105302,0.17457781283183896,0.25755039072276437,-0.07444591576616721,-1.9187712152990415,-0.026513875449216878,0.06023020994102644,2.463242112485286,-0.19236096478112252,0.30154734233361247,-0.03471176970524331,-1.168678037619532,1.1428228145150205,0.7519330326867741,0.7910319470430469,-0.9093874547947389,1.4027943109360992,-1.4018510627922809,0.5868570938002703,2.1904556258099785,-0.9905363251306883,-0.5662977296027719,0.09965136508764122,-0.5034756541161992,-1.5506634310661327,0.06856297480602733,-1.0623037137261049,0.4735924306351816,-0.9194242342338032,1.5499344050175394,-0.7832532923362371,-0.3220615162056756,0.8135172173696698,-1.2308643164339552,0.22745993460412942,1.307142754282428,-1.6074832345612275,0.1846338585323042,0.25988279424842353,0.7818228717773104,-1.236950710878082,-1.3204566130842763,0.5219415656168976,0.29698467323318606],\"type\":\"scatter3d\"}],                        {\"template\":{\"data\":{\"histogram2dcontour\":[{\"type\":\"histogram2dcontour\",\"colorbar\":{\"outlinewidth\":0,\"ticks\":\"\"},\"colorscale\":[[0.0,\"#0d0887\"],[0.1111111111111111,\"#46039f\"],[0.2222222222222222,\"#7201a8\"],[0.3333333333333333,\"#9c179e\"],[0.4444444444444444,\"#bd3786\"],[0.5555555555555556,\"#d8576b\"],[0.6666666666666666,\"#ed7953\"],[0.7777777777777778,\"#fb9f3a\"],[0.8888888888888888,\"#fdca26\"],[1.0,\"#f0f921\"]]}],\"choropleth\":[{\"type\":\"choropleth\",\"colorbar\":{\"outlinewidth\":0,\"ticks\":\"\"}}],\"histogram2d\":[{\"type\":\"histogram2d\",\"colorbar\":{\"outlinewidth\":0,\"ticks\":\"\"},\"colorscale\":[[0.0,\"#0d0887\"],[0.1111111111111111,\"#46039f\"],[0.2222222222222222,\"#7201a8\"],[0.3333333333333333,\"#9c179e\"],[0.4444444444444444,\"#bd3786\"],[0.5555555555555556,\"#d8576b\"],[0.6666666666666666,\"#ed7953\"],[0.7777777777777778,\"#fb9f3a\"],[0.8888888888888888,\"#fdca26\"],[1.0,\"#f0f921\"]]}],\"heatmap\":[{\"type\":\"heatmap\",\"colorbar\":{\"outlinewidth\":0,\"ticks\":\"\"},\"colorscale\":[[0.0,\"#0d0887\"],[0.1111111111111111,\"#46039f\"],[0.2222222222222222,\"#7201a8\"],[0.3333333333333333,\"#9c179e\"],[0.4444444444444444,\"#bd3786\"],[0.5555555555555556,\"#d8576b\"],[0.6666666666666666,\"#ed7953\"],[0.7777777777777778,\"#fb9f3a\"],[0.8888888888888888,\"#fdca26\"],[1.0,\"#f0f921\"]]}],\"heatmapgl\":[{\"type\":\"heatmapgl\",\"colorbar\":{\"outlinewidth\":0,\"ticks\":\"\"},\"colorscale\":[[0.0,\"#0d0887\"],[0.1111111111111111,\"#46039f\"],[0.2222222222222222,\"#7201a8\"],[0.3333333333333333,\"#9c179e\"],[0.4444444444444444,\"#bd3786\"],[0.5555555555555556,\"#d8576b\"],[0.6666666666666666,\"#ed7953\"],[0.7777777777777778,\"#fb9f3a\"],[0.8888888888888888,\"#fdca26\"],[1.0,\"#f0f921\"]]}],\"contourcarpet\":[{\"type\":\"contourcarpet\",\"colorbar\":{\"outlinewidth\":0,\"ticks\":\"\"}}],\"contour\":[{\"type\":\"contour\",\"colorbar\":{\"outlinewidth\":0,\"ticks\":\"\"},\"colorscale\":[[0.0,\"#0d0887\"],[0.1111111111111111,\"#46039f\"],[0.2222222222222222,\"#7201a8\"],[0.3333333333333333,\"#9c179e\"],[0.4444444444444444,\"#bd3786\"],[0.5555555555555556,\"#d8576b\"],[0.6666666666666666,\"#ed7953\"],[0.7777777777777778,\"#fb9f3a\"],[0.8888888888888888,\"#fdca26\"],[1.0,\"#f0f921\"]]}],\"surface\":[{\"type\":\"surface\",\"colorbar\":{\"outlinewidth\":0,\"ticks\":\"\"},\"colorscale\":[[0.0,\"#0d0887\"],[0.1111111111111111,\"#46039f\"],[0.2222222222222222,\"#7201a8\"],[0.3333333333333333,\"#9c179e\"],[0.4444444444444444,\"#bd3786\"],[0.5555555555555556,\"#d8576b\"],[0.6666666666666666,\"#ed7953\"],[0.7777777777777778,\"#fb9f3a\"],[0.8888888888888888,\"#fdca26\"],[1.0,\"#f0f921\"]]}],\"mesh3d\":[{\"type\":\"mesh3d\",\"colorbar\":{\"outlinewidth\":0,\"ticks\":\"\"}}],\"scatter\":[{\"fillpattern\":{\"fillmode\":\"overlay\",\"size\":10,\"solidity\":0.2},\"type\":\"scatter\"}],\"parcoords\":[{\"type\":\"parcoords\",\"line\":{\"colorbar\":{\"outlinewidth\":0,\"ticks\":\"\"}}}],\"scatterpolargl\":[{\"type\":\"scatterpolargl\",\"marker\":{\"colorbar\":{\"outlinewidth\":0,\"ticks\":\"\"}}}],\"bar\":[{\"error_x\":{\"color\":\"#2a3f5f\"},\"error_y\":{\"color\":\"#2a3f5f\"},\"marker\":{\"line\":{\"color\":\"#E5ECF6\",\"width\":0.5},\"pattern\":{\"fillmode\":\"overlay\",\"size\":10,\"solidity\":0.2}},\"type\":\"bar\"}],\"scattergeo\":[{\"type\":\"scattergeo\",\"marker\":{\"colorbar\":{\"outlinewidth\":0,\"ticks\":\"\"}}}],\"scatterpolar\":[{\"type\":\"scatterpolar\",\"marker\":{\"colorbar\":{\"outlinewidth\":0,\"ticks\":\"\"}}}],\"histogram\":[{\"marker\":{\"pattern\":{\"fillmode\":\"overlay\",\"size\":10,\"solidity\":0.2}},\"type\":\"histogram\"}],\"scattergl\":[{\"type\":\"scattergl\",\"marker\":{\"colorbar\":{\"outlinewidth\":0,\"ticks\":\"\"}}}],\"scatter3d\":[{\"type\":\"scatter3d\",\"line\":{\"colorbar\":{\"outlinewidth\":0,\"ticks\":\"\"}},\"marker\":{\"colorbar\":{\"outlinewidth\":0,\"ticks\":\"\"}}}],\"scattermapbox\":[{\"type\":\"scattermapbox\",\"marker\":{\"colorbar\":{\"outlinewidth\":0,\"ticks\":\"\"}}}],\"scatterternary\":[{\"type\":\"scatterternary\",\"marker\":{\"colorbar\":{\"outlinewidth\":0,\"ticks\":\"\"}}}],\"scattercarpet\":[{\"type\":\"scattercarpet\",\"marker\":{\"colorbar\":{\"outlinewidth\":0,\"ticks\":\"\"}}}],\"carpet\":[{\"aaxis\":{\"endlinecolor\":\"#2a3f5f\",\"gridcolor\":\"white\",\"linecolor\":\"white\",\"minorgridcolor\":\"white\",\"startlinecolor\":\"#2a3f5f\"},\"baxis\":{\"endlinecolor\":\"#2a3f5f\",\"gridcolor\":\"white\",\"linecolor\":\"white\",\"minorgridcolor\":\"white\",\"startlinecolor\":\"#2a3f5f\"},\"type\":\"carpet\"}],\"table\":[{\"cells\":{\"fill\":{\"color\":\"#EBF0F8\"},\"line\":{\"color\":\"white\"}},\"header\":{\"fill\":{\"color\":\"#C8D4E3\"},\"line\":{\"color\":\"white\"}},\"type\":\"table\"}],\"barpolar\":[{\"marker\":{\"line\":{\"color\":\"#E5ECF6\",\"width\":0.5},\"pattern\":{\"fillmode\":\"overlay\",\"size\":10,\"solidity\":0.2}},\"type\":\"barpolar\"}],\"pie\":[{\"automargin\":true,\"type\":\"pie\"}]},\"layout\":{\"autotypenumbers\":\"strict\",\"colorway\":[\"#636efa\",\"#EF553B\",\"#00cc96\",\"#ab63fa\",\"#FFA15A\",\"#19d3f3\",\"#FF6692\",\"#B6E880\",\"#FF97FF\",\"#FECB52\"],\"font\":{\"color\":\"#2a3f5f\"},\"hovermode\":\"closest\",\"hoverlabel\":{\"align\":\"left\"},\"paper_bgcolor\":\"white\",\"plot_bgcolor\":\"#E5ECF6\",\"polar\":{\"bgcolor\":\"#E5ECF6\",\"angularaxis\":{\"gridcolor\":\"white\",\"linecolor\":\"white\",\"ticks\":\"\"},\"radialaxis\":{\"gridcolor\":\"white\",\"linecolor\":\"white\",\"ticks\":\"\"}},\"ternary\":{\"bgcolor\":\"#E5ECF6\",\"aaxis\":{\"gridcolor\":\"white\",\"linecolor\":\"white\",\"ticks\":\"\"},\"baxis\":{\"gridcolor\":\"white\",\"linecolor\":\"white\",\"ticks\":\"\"},\"caxis\":{\"gridcolor\":\"white\",\"linecolor\":\"white\",\"ticks\":\"\"}},\"coloraxis\":{\"colorbar\":{\"outlinewidth\":0,\"ticks\":\"\"}},\"colorscale\":{\"sequential\":[[0.0,\"#0d0887\"],[0.1111111111111111,\"#46039f\"],[0.2222222222222222,\"#7201a8\"],[0.3333333333333333,\"#9c179e\"],[0.4444444444444444,\"#bd3786\"],[0.5555555555555556,\"#d8576b\"],[0.6666666666666666,\"#ed7953\"],[0.7777777777777778,\"#fb9f3a\"],[0.8888888888888888,\"#fdca26\"],[1.0,\"#f0f921\"]],\"sequentialminus\":[[0.0,\"#0d0887\"],[0.1111111111111111,\"#46039f\"],[0.2222222222222222,\"#7201a8\"],[0.3333333333333333,\"#9c179e\"],[0.4444444444444444,\"#bd3786\"],[0.5555555555555556,\"#d8576b\"],[0.6666666666666666,\"#ed7953\"],[0.7777777777777778,\"#fb9f3a\"],[0.8888888888888888,\"#fdca26\"],[1.0,\"#f0f921\"]],\"diverging\":[[0,\"#8e0152\"],[0.1,\"#c51b7d\"],[0.2,\"#de77ae\"],[0.3,\"#f1b6da\"],[0.4,\"#fde0ef\"],[0.5,\"#f7f7f7\"],[0.6,\"#e6f5d0\"],[0.7,\"#b8e186\"],[0.8,\"#7fbc41\"],[0.9,\"#4d9221\"],[1,\"#276419\"]]},\"xaxis\":{\"gridcolor\":\"white\",\"linecolor\":\"white\",\"ticks\":\"\",\"title\":{\"standoff\":15},\"zerolinecolor\":\"white\",\"automargin\":true,\"zerolinewidth\":2},\"yaxis\":{\"gridcolor\":\"white\",\"linecolor\":\"white\",\"ticks\":\"\",\"title\":{\"standoff\":15},\"zerolinecolor\":\"white\",\"automargin\":true,\"zerolinewidth\":2},\"scene\":{\"xaxis\":{\"backgroundcolor\":\"#E5ECF6\",\"gridcolor\":\"white\",\"linecolor\":\"white\",\"showbackground\":true,\"ticks\":\"\",\"zerolinecolor\":\"white\",\"gridwidth\":2},\"yaxis\":{\"backgroundcolor\":\"#E5ECF6\",\"gridcolor\":\"white\",\"linecolor\":\"white\",\"showbackground\":true,\"ticks\":\"\",\"zerolinecolor\":\"white\",\"gridwidth\":2},\"zaxis\":{\"backgroundcolor\":\"#E5ECF6\",\"gridcolor\":\"white\",\"linecolor\":\"white\",\"showbackground\":true,\"ticks\":\"\",\"zerolinecolor\":\"white\",\"gridwidth\":2}},\"shapedefaults\":{\"line\":{\"color\":\"#2a3f5f\"}},\"annotationdefaults\":{\"arrowcolor\":\"#2a3f5f\",\"arrowhead\":0,\"arrowwidth\":1},\"geo\":{\"bgcolor\":\"white\",\"landcolor\":\"#E5ECF6\",\"subunitcolor\":\"white\",\"showland\":true,\"showlakes\":true,\"lakecolor\":\"white\"},\"title\":{\"x\":0.05},\"mapbox\":{\"style\":\"light\"}}},\"scene\":{\"domain\":{\"x\":[0.0,1.0],\"y\":[0.0,1.0]},\"xaxis\":{\"title\":{\"text\":\"X\"}},\"yaxis\":{\"title\":{\"text\":\"Y\"}},\"zaxis\":{\"title\":{\"text\":\"Z\"}}},\"coloraxis\":{\"colorbar\":{\"title\":{\"text\":\"Color\"}},\"colorscale\":[[0.0,\"#0d0887\"],[0.1111111111111111,\"#46039f\"],[0.2222222222222222,\"#7201a8\"],[0.3333333333333333,\"#9c179e\"],[0.4444444444444444,\"#bd3786\"],[0.5555555555555556,\"#d8576b\"],[0.6666666666666666,\"#ed7953\"],[0.7777777777777778,\"#fb9f3a\"],[0.8888888888888888,\"#fdca26\"],[1.0,\"#f0f921\"]]},\"legend\":{\"tracegroupgap\":0},\"title\":{\"text\":\"3D Scatter Plot\"}},                        {\"responsive\": true}                    ).then(function(){\n",
              "                            \n",
              "var gd = document.getElementById('d10891f2-ffdc-4fe7-b201-e983c7115af0');\n",
              "var x = new MutationObserver(function (mutations, observer) {{\n",
              "        var display = window.getComputedStyle(gd).display;\n",
              "        if (!display || display === 'none') {{\n",
              "            console.log([gd, 'removed!']);\n",
              "            Plotly.purge(gd);\n",
              "            observer.disconnect();\n",
              "        }}\n",
              "}});\n",
              "\n",
              "// Listen for the removal of the full notebook cells\n",
              "var notebookContainer = gd.closest('#notebook-container');\n",
              "if (notebookContainer) {{\n",
              "    x.observe(notebookContainer, {childList: true});\n",
              "}}\n",
              "\n",
              "// Listen for the clearing of the current output cell\n",
              "var outputEl = gd.closest('.output');\n",
              "if (outputEl) {{\n",
              "    x.observe(outputEl, {childList: true});\n",
              "}}\n",
              "\n",
              "                        })                };                            </script>        </div>\n",
              "</body>\n",
              "</html>"
            ]
          },
          "metadata": {}
        }
      ]
    }
  ]
}